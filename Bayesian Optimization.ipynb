{
 "cells": [
  {
   "cell_type": "markdown",
   "id": "e2748be2",
   "metadata": {},
   "source": [
    "### Import Packages"
   ]
  },
  {
   "cell_type": "code",
   "execution_count": 2,
   "id": "9a12e168",
   "metadata": {},
   "outputs": [],
   "source": [
    "from math import sin\n",
    "from math import pi\n",
    "from numpy import arange\n",
    "from numpy import vstack\n",
    "from numpy import argmax\n",
    "from numpy import asarray\n",
    "from numpy.random import normal\n",
    "from numpy.random import random\n",
    "from scipy.stats import norm\n",
    "from sklearn.gaussian_process import GaussianProcessRegressor\n",
    "from warnings import catch_warnings\n",
    "from warnings import simplefilter\n",
    "from matplotlib import pyplot"
   ]
  },
  {
   "cell_type": "markdown",
   "id": "39ca96c3",
   "metadata": {},
   "source": [
    "### Define the model"
   ]
  },
  {
   "cell_type": "code",
   "execution_count": 3,
   "id": "29fe2438",
   "metadata": {},
   "outputs": [],
   "source": [
    "model = GaussianProcessRegressor()"
   ]
  },
  {
   "cell_type": "code",
   "execution_count": 4,
   "id": "a7999a27",
   "metadata": {},
   "outputs": [],
   "source": [
    "def objective(x):\n",
    "    y=(x**2 * sin(5 * pi * x)**6.0)\n",
    "    return y\n",
    "\n",
    "def surrogate(model,X):\n",
    "    sur=model.predict(X,return_std=True)\n",
    "    return sur\n",
    "\n",
    "def acquisition(X,Xsamples,model):\n",
    "    yhat,_=surrogate(model,X)\n",
    "    best=max(yhat)\n",
    "    mu,std=surrogate(model,Xsamples)\n",
    "    mu=mu[:,0]\n",
    "    probs=norm.cdf((mu-best)/std+1E-9)\n",
    "    return probs\n",
    "def opt_acquisition(X, y, model):\n",
    "    # random search, generate random samples\n",
    "    Xsamples = random(100)\n",
    "    Xsamples = Xsamples.reshape(len(Xsamples), 1)\n",
    "    # calculate the acquisition function for each sample\n",
    "    scores = acquisition(X, Xsamples, model)\n",
    "    # locate the index of the largest scores\n",
    "    ix = argmax(scores)\n",
    "    return Xsamples[ix, 0]\n",
    "\n",
    "# plot real observations vs surrogate function\n",
    "def plot(X, y, model):\n",
    "    # scatter plot of inputs and real objective function\n",
    "    pyplot.scatter(X, y)\n",
    "    # line plot of surrogate function across domain\n",
    "    Xsamples = asarray(arange(0, 1, 0.001))\n",
    "    Xsamples = Xsamples.reshape(len(Xsamples), 1)\n",
    "    ysamples, _ = surrogate(model, Xsamples)\n",
    "    pyplot.plot(Xsamples, ysamples)\n",
    "    # show the plot\n",
    "    pyplot.show()\n"
   ]
  },
  {
   "cell_type": "markdown",
   "id": "ca251699",
   "metadata": {},
   "source": [
    "### Randomly Generate Datapoints"
   ]
  },
  {
   "cell_type": "code",
   "execution_count": 5,
   "id": "967905b0",
   "metadata": {},
   "outputs": [],
   "source": [
    "X = random(100)\n",
    "y = asarray([objective(x) for x in X])\n",
    "# reshape into rows and cols\n",
    "X = X.reshape(len(X), 1)\n",
    "y = y.reshape(len(y), 1)"
   ]
  },
  {
   "cell_type": "markdown",
   "id": "1d9a223a",
   "metadata": {},
   "source": [
    "### Gaussian Model"
   ]
  },
  {
   "cell_type": "code",
   "execution_count": 6,
   "id": "dccba5cd",
   "metadata": {
    "scrolled": false
   },
   "outputs": [],
   "source": [
    "model = GaussianProcessRegressor()\n",
    "# fit the model\n",
    "model.fit(X, y)\n",
    "sur=model.predict(X)"
   ]
  },
  {
   "cell_type": "markdown",
   "id": "31711929",
   "metadata": {},
   "source": [
    "### Plot"
   ]
  },
  {
   "cell_type": "code",
   "execution_count": 78,
   "id": "055a05cf",
   "metadata": {},
   "outputs": [
    {
     "data": {
      "text/plain": [
       "918"
      ]
     },
     "execution_count": 78,
     "metadata": {},
     "output_type": "execute_result"
    }
   ],
   "source": [
    "ix = argmax(scores)\n",
    "ix"
   ]
  },
  {
   "cell_type": "code",
   "execution_count": 76,
   "id": "80d350e7",
   "metadata": {
    "scrolled": true
   },
   "outputs": [
    {
     "data": {
      "text/plain": [
       "[<matplotlib.lines.Line2D at 0x27c9f6d0f10>]"
      ]
     },
     "execution_count": 76,
     "metadata": {},
     "output_type": "execute_result"
    },
    {
     "data": {
      "image/png": "[encoded data removed]",
      "text/plain": [
       "<Figure size 432x288 with 1 Axes>"
      ]
     },
     "metadata": {
      "needs_background": "light"
     },
     "output_type": "display_data"
    }
   ],
   "source": [
    "pyplot.scatter(X,y)\n",
    "Xsamples = asarray(arange(0, 1, 0.001))\n",
    "Xsamples = Xsamples.reshape(len(Xsamples), 1)\n",
    "ysamples = model.predict(Xsamples)\n",
    "pyplot.plot(Xsamples,ysamples)"
   ]
  },
  {
   "cell_type": "code",
   "execution_count": 77,
   "id": "12f51ef5",
   "metadata": {
    "scrolled": false
   },
   "outputs": [
    {
     "name": "stdout",
     "output_type": "stream",
     "text": [
      ">x=0.907, f()=0.357456, actual=0.792\n",
      ">x=0.638, f()=0.080777, actual=0.012\n",
      ">x=0.801, f()=0.186877, actual=0.000\n",
      ">x=0.939, f()=0.324273, actual=0.258\n",
      ">x=0.498, f()=0.095590, actual=0.247\n",
      ">x=0.912, f()=0.357637, actual=0.750\n",
      ">x=0.993, f()=-0.024337, actual=0.000\n",
      ">x=0.348, f()=0.039524, actual=0.018\n",
      ">x=0.732, f()=0.098032, actual=0.248\n",
      ">x=0.481, f()=0.092136, actual=0.178\n",
      ">x=0.037, f()=-0.003720, actual=0.000\n",
      ">x=0.831, f()=0.245151, actual=0.008\n",
      ">x=0.123, f()=0.011847, actual=0.010\n",
      ">x=0.015, f()=-0.000104, actual=0.000\n",
      ">x=0.912, f()=0.357650, actual=0.752\n",
      ">x=0.058, f()=-0.001747, actual=0.001\n",
      ">x=0.406, f()=0.064290, actual=0.000\n",
      ">x=0.912, f()=0.357621, actual=0.749\n",
      ">x=0.910, f()=0.357719, actual=0.765\n",
      ">x=0.139, f()=0.014043, actual=0.006\n",
      ">x=0.663, f()=0.077629, actual=0.148\n",
      ">x=0.707, f()=0.084124, actual=0.483\n",
      ">x=0.911, f()=0.357670, actual=0.754\n",
      ">x=0.911, f()=0.357696, actual=0.758\n",
      ">x=0.912, f()=0.357622, actual=0.749\n",
      ">x=0.723, f()=0.091955, actual=0.356\n",
      ">x=0.695, f()=0.080510, actual=0.476\n",
      ">x=0.472, f()=0.089503, actual=0.119\n",
      ">x=0.286, f()=0.022409, actual=0.071\n",
      ">x=0.390, f()=0.056871, actual=0.000\n",
      ">x=0.506, f()=0.096853, actual=0.249\n",
      ">x=0.482, f()=0.092286, actual=0.182\n",
      ">x=0.355, f()=0.042096, actual=0.010\n",
      ">x=0.200, f()=0.017006, actual=0.000\n",
      ">x=0.771, f()=0.138975, actual=0.005\n",
      ">x=0.934, f()=0.336881, actual=0.361\n",
      ">x=0.462, f()=0.086503, actual=0.067\n",
      ">x=0.027, f()=-0.003020, actual=0.000\n",
      ">x=0.076, f()=0.001932, actual=0.004\n",
      ">x=0.912, f()=0.357582, actual=0.745\n",
      ">x=0.369, f()=0.047741, actual=0.002\n",
      ">x=0.706, f()=0.083690, actual=0.486\n",
      ">x=0.308, f()=0.027027, actual=0.090\n",
      ">x=0.857, f()=0.296377, actual=0.171\n",
      ">x=0.612, f()=0.086261, actual=0.000\n",
      ">x=0.732, f()=0.098076, actual=0.247\n",
      ">x=0.008, f()=0.002878, actual=0.000\n",
      ">x=0.910, f()=0.357707, actual=0.773\n",
      ">x=0.718, f()=0.089552, actual=0.401\n",
      ">x=0.911, f()=0.357686, actual=0.757\n",
      ">x=0.922, f()=0.352516, actual=0.583\n",
      ">x=0.910, f()=0.357718, actual=0.768\n",
      ">x=0.911, f()=0.357712, actual=0.763\n",
      ">x=0.336, f()=0.035141, actual=0.042\n",
      ">x=0.583, f()=0.092705, actual=0.000\n",
      ">x=0.214, f()=0.017090, actual=0.000\n",
      ">x=0.236, f()=0.017504, actual=0.001\n",
      ">x=0.192, f()=0.016943, actual=0.000\n",
      ">x=0.910, f()=0.357723, actual=0.769\n",
      ">x=0.101, f()=0.007519, actual=0.010\n",
      ">x=0.903, f()=0.355970, actual=0.811\n",
      ">x=0.910, f()=0.357714, actual=0.772\n",
      ">x=0.234, f()=0.017443, actual=0.001\n",
      ">x=0.056, f()=-0.002075, actual=0.001\n",
      ">x=0.910, f()=0.357719, actual=0.770\n",
      ">x=0.152, f()=0.015357, actual=0.002\n",
      ">x=0.911, f()=0.357715, actual=0.763\n",
      ">x=0.909, f()=0.357696, actual=0.776\n",
      ">x=0.676, f()=0.077635, actual=0.298\n",
      ">x=0.632, f()=0.081759, actual=0.005\n",
      ">x=0.250, f()=0.018169, actual=0.007\n",
      ">x=0.910, f()=0.357714, actual=0.771\n",
      ">x=0.231, f()=0.017376, actual=0.001\n",
      ">x=0.800, f()=0.184966, actual=0.000\n",
      ">x=0.704, f()=0.083008, actual=0.490\n",
      ">x=0.910, f()=0.357718, actual=0.770\n",
      ">x=0.875, f()=0.326125, actual=0.468\n",
      ">x=0.077, f()=0.002248, actual=0.004\n",
      ">x=0.683, f()=0.078272, actual=0.380\n",
      ">x=0.244, f()=0.017852, actual=0.004\n",
      ">x=0.972, f()=0.174354, actual=0.006\n",
      ">x=0.910, f()=0.357716, actual=0.772\n",
      ">x=0.077, f()=0.002133, actual=0.004\n",
      ">x=0.861, f()=0.302970, actual=0.222\n",
      ">x=0.861, f()=0.303220, actual=0.224\n",
      ">x=0.131, f()=0.012988, actual=0.008\n",
      ">x=0.909, f()=0.357673, actual=0.779\n",
      ">x=0.910, f()=0.357726, actual=0.768\n",
      ">x=0.764, f()=0.130411, actual=0.014\n",
      ">x=0.910, f()=0.357719, actual=0.767\n",
      ">x=0.140, f()=0.014175, actual=0.006\n",
      ">x=0.790, f()=0.168511, actual=0.000\n",
      ">x=0.911, f()=0.357686, actual=0.756\n",
      ">x=0.791, f()=0.170048, actual=0.000\n",
      ">x=0.799, f()=0.182842, actual=0.000\n",
      ">x=0.413, f()=0.067471, actual=0.000\n",
      ">x=0.390, f()=0.056840, actual=0.000\n",
      ">x=0.797, f()=0.179031, actual=0.000\n",
      ">x=0.909, f()=0.357674, actual=0.779\n",
      ">x=0.910, f()=0.357721, actual=0.767\n"
     ]
    },
    {
     "data": {
      "image/png": "[encoded data removed]",
      "text/plain": [
       "<Figure size 432x288 with 1 Axes>"
      ]
     },
     "metadata": {
      "needs_background": "light"
     },
     "output_type": "display_data"
    },
    {
     "name": "stdout",
     "output_type": "stream",
     "text": [
      "Best Result: x=0.904, y=0.807\n"
     ]
    }
   ],
   "source": [
    "for i in range(100):\n",
    "    x = opt_acquisition(X, y, model)\n",
    "    # sample the point\n",
    "    actual = objective(x)\n",
    "    actual\n",
    "    est, _ = surrogate(model, [[x]])\n",
    "    print('>x=%.3f, f()=%3f, actual=%.3f' % (x, est, actual))\n",
    "    # add the data to the dataset\n",
    "    X = vstack((X, [[x]]))\n",
    "    y = vstack((y, est))\n",
    "    # update the model\n",
    "    model.fit(X, y)\n",
    "plot(X, y, model)\n",
    "# best result\n",
    "ix = argmax(y)\n",
    "print('Best Result: x=%.3f, y=%.3f' % (X[ix], y[ix]))"
   ]
  }
 ],
 "metadata": {
  "kernelspec": {
   "display_name": "Python 3 (ipykernel)",
   "language": "python",
   "name": "python3"
  },
  "language_info": {
   "codemirror_mode": {
    "name": "ipython",
    "version": 3
   },
   "file_extension": ".py",
   "mimetype": "text/x-python",
   "name": "python",
   "nbconvert_exporter": "python",
   "pygments_lexer": "ipython3",
   "version": "3.9.12"
  }
 },
 "nbformat": 4,
 "nbformat_minor": 5
}
